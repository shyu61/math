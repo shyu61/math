{
 "cells": [
  {
   "cell_type": "code",
   "execution_count": 4,
   "metadata": {},
   "outputs": [],
   "source": [
    "import pandas as pd\n",
    "import numpy as np\n",
    "from sklearn.metrics import mean_squared_error\n",
    "from sklearn.model_selection import train_test_split\n",
    "from sklearn.model_selection import ParameterGrid\n",
    "\n",
    "from goss import SimpleGOSS\n",
    "from gbdt import SimpleGBDT\n",
    "from efb import SimpleEFB"
   ]
  },
  {
   "cell_type": "code",
   "execution_count": 5,
   "metadata": {},
   "outputs": [],
   "source": [
    "data = pd.read_csv(\"./data/boston.csv\")\n",
    "X = data.drop(\"target\", axis=1)\n",
    "y = data[\"target\"]\n",
    "X_train, X_test, y_train, y_test = train_test_split(X, y, test_size=0.2, random_state=42)"
   ]
  },
  {
   "cell_type": "code",
   "execution_count": 8,
   "metadata": {},
   "outputs": [
    {
     "name": "stdout",
     "output_type": "stream",
     "text": [
      "1/1260\n",
      "101/1260\n",
      "201/1260\n",
      "301/1260\n",
      "401/1260\n",
      "501/1260\n"
     ]
    }
   ],
   "source": [
    "## GBDT\n",
    "\n",
    "params = {'n_estimators': [50, 70, 100, 150, 200, 300],\n",
    "          'learning_rate': [0.001, 0.005, 0.01, 0.05, 0.1],\n",
    "          'max_depth': list(np.arange(3, 10)),\n",
    "          'max_bin': [5, 10, 20, 50, 100, 255],\n",
    "          }\n",
    "grid = ParameterGrid(params)\n",
    "\n",
    "best_score = 10000\n",
    "best_param = None\n",
    "\n",
    "total = len(grid)\n",
    "for i, param in enumerate(grid):\n",
    "    if i % 100 == 0:\n",
    "        print(f'{i+1}/{total}')\n",
    "    model = SimpleGBDT(**param)\n",
    "    model.fit(X_train, y_train)\n",
    "    y_pred_test = model.predict(X_test)\n",
    "    score = mean_squared_error(y_test, y_pred_test)\n",
    "\n",
    "    if score < best_score:\n",
    "        best_score = score\n",
    "        best_param = param\n",
    "\n",
    "print(best_score)\n",
    "print(best_param)"
   ]
  },
  {
   "cell_type": "code",
   "execution_count": null,
   "metadata": {},
   "outputs": [],
   "source": [
    "## GOSS\n",
    "\n",
    "params = {'n_trees': [50, 70, 100, 150, 200, 300],\n",
    "          'learning_rate': [0.001, 0.005, 0.01, 0.05, 0.1],\n",
    "          'a': [0.1, 0.2, 0.3, 0.4],\n",
    "          'b': [0.1, 0.2, 0.3, 0.4],\n",
    "          'max_depth': list(np.arange(3, 10)),\n",
    "          'max_bin': [5, 10, 20, 50, 100, 255],\n",
    "          }\n",
    "grid = ParameterGrid(params)\n",
    "\n",
    "best_score = 10000\n",
    "best_param = None\n",
    "\n",
    "total = len(grid)\n",
    "for i, param in enumerate(grid):\n",
    "    if i % 100 == 0:\n",
    "        print(f'{i+1}/{total}')\n",
    "    model = SimpleGOSS(**param)\n",
    "    model.fit(X_train, y_train)\n",
    "    y_pred_test = model.predict(X_test)\n",
    "    score = mean_squared_error(y_test, y_pred_test)\n",
    "\n",
    "    if score < best_score:\n",
    "        best_score = score\n",
    "        best_param = param\n",
    "\n",
    "print(best_score)\n",
    "print(best_param)"
   ]
  },
  {
   "cell_type": "code",
   "execution_count": null,
   "metadata": {},
   "outputs": [],
   "source": [
    "## EFB\n",
    "\n",
    "params = {'n_trees': [50, 70, 100, 150, 200, 300],\n",
    "          'learning_rate': [0.001, 0.005, 0.01, 0.05, 0.1],\n",
    "          'max_depth': list(np.arange(3, 10)),\n",
    "          'max_bin': [5, 10, 20, 50, 100, 255],\n",
    "          }\n",
    "grid = ParameterGrid(params)\n",
    "\n",
    "best_score = 10000\n",
    "best_param = None\n",
    "\n",
    "total = len(grid)\n",
    "for i, param in enumerate(grid):\n",
    "    if i % 100 == 0:\n",
    "        print(f'{i+1}/{total}')\n",
    "    model = SimpleEFB(**param)\n",
    "    model.fit(X_train, y_train)\n",
    "    y_pred_test = model.predict(X_test)\n",
    "    score = mean_squared_error(y_test, y_pred_test)\n",
    "\n",
    "    if score < best_score:\n",
    "        best_score = score\n",
    "        best_param = param\n",
    "\n",
    "print(best_score)\n",
    "print(best_param)"
   ]
  }
 ],
 "metadata": {
  "kernelspec": {
   "display_name": "venv",
   "language": "python",
   "name": "python3"
  },
  "language_info": {
   "codemirror_mode": {
    "name": "ipython",
    "version": 3
   },
   "file_extension": ".py",
   "mimetype": "text/x-python",
   "name": "python",
   "nbconvert_exporter": "python",
   "pygments_lexer": "ipython3",
   "version": "3.11.2"
  },
  "orig_nbformat": 4
 },
 "nbformat": 4,
 "nbformat_minor": 2
}
