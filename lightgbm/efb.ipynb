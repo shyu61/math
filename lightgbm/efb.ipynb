{
 "cells": [
  {
   "cell_type": "code",
   "execution_count": 1,
   "metadata": {},
   "outputs": [],
   "source": [
    "import pandas as pd\n",
    "import numpy as np\n",
    "import matplotlib.pyplot as plt\n",
    "from sklearn.metrics import mean_squared_error\n",
    "from sklearn.tree import DecisionTreeRegressor\n",
    "from sklearn.model_selection import train_test_split\n",
    "import networkx as nx\n",
    "\n",
    "from efb import SimpleEFB"
   ]
  },
  {
   "cell_type": "code",
   "execution_count": 2,
   "metadata": {},
   "outputs": [],
   "source": [
    "data = pd.read_csv(\"./data/boston.csv\")\n",
    "X = data.drop(\"target\", axis=1)\n",
    "y = data[\"target\"]\n",
    "X_train, X_test, y_train, y_test = train_test_split(X, y, test_size=0.2, random_state=42)\n",
    "\n",
    "# X_onehot = pd.concat([X, pd.get_dummies(data[\"CHAS\"], prefix=\"CHAS\", dtype=int)], axis=1)\n",
    "# X_onehot.drop(\"CHAS\", axis=1, inplace=True)\n",
    "\n",
    "# X_onehot = pd.concat([X, pd.get_dummies(data[\"RAD\"], prefix=\"RAD\", dtype=int)], axis=1)\n",
    "# X_onehot.drop(\"RAD\", axis=1, inplace=True)\n",
    "# X_onehot['ADD'] = 1"
   ]
  },
  {
   "cell_type": "code",
   "execution_count": null,
   "metadata": {},
   "outputs": [],
   "source": [
    "def _create_weighted_feature_graph(X: pd.DataFrame) -> nx.Graph:\n",
    "    G = nx.Graph()\n",
    "    feats = list(X.columns)\n",
    "    for feat in feats:\n",
    "        G.add_node(feat)\n",
    "\n",
    "    for i, feature_i in enumerate(feats):\n",
    "        for j, feature_j in enumerate(feats):\n",
    "            # 重複して評価しないため\n",
    "            if i < j:\n",
    "                # nonzeroかつ同じ値の数をカウント（衝突数）\n",
    "                # TODO: numerical featureの場合はbinningしてからカウントする\n",
    "                non_zero_mask = (X[feature_i] != 0) & (X[feature_j] != 0)\n",
    "                conflicts = (X[feature_i][non_zero_mask] == X[feature_j][non_zero_mask]).sum()\n",
    "\n",
    "                # 衝突がある場合のみweightを衝突数とするedgeを追加\n",
    "                if conflicts > 0:\n",
    "                    G.add_edge(feature_i, feature_j, weight=conflicts)\n",
    "    return G\n",
    "\n",
    "def _greedy_bundling(G: nx.Graph, total_sample_cnt, threshold=None) -> dict:\n",
    "    # https://github.com/microsoft/LightGBM/issues/4114#issuecomment-813201652\n",
    "    if threshold is None:\n",
    "        threshold = int(total_sample_cnt / 10000)\n",
    "\n",
    "    bundles = {}\n",
    "    # (edge数 * weight) でソート\n",
    "    sortedNodes = sorted(G.degree(weight='weight'), key=lambda x: x[1], reverse=True)\n",
    "\n",
    "    # より多くの衝突がある特徴量から処理を行う\n",
    "    for feat, degree in sortedNodes:\n",
    "        needNew = True\n",
    "        for i in range(len(bundles)):\n",
    "            conflicts = 0\n",
    "            # 既存のバンドル（bundles[i]）に含まれる全ての特徴量との衝突数を合計する\n",
    "            for f in bundles[i]:\n",
    "                if f in G[feat]:\n",
    "                    conflicts += G[feat][f]['weight']\n",
    "\n",
    "            # 値の衝突が閾値以下であれば、マージする\n",
    "            # 閾値以上であれば、新しいバンドルを追加する\n",
    "            if conflicts <= threshold:\n",
    "                bundles[i].append(feat)\n",
    "                # bundle内で最も衝突が小さいものにマージするのではなく、早い者勝ちでマージする\n",
    "                needNew = False\n",
    "                break\n",
    "        if needNew:\n",
    "            idx = len(bundles)\n",
    "            bundles[idx] = [feat]\n",
    "    \n",
    "    return bundles\n",
    "    \n",
    "def _get_bins(X: pd.Series, max_bin) -> int:\n",
    "    unique_cnt = X.nunique()\n",
    "    return min(unique_cnt, max_bin)\n",
    "\n",
    "def _merge_exclusive_feature(X: pd.DataFrame, bundles: dict, max_bin=255) -> pd.DataFrame:\n",
    "    df = pd.DataFrame()\n",
    "\n",
    "    X = X.copy()\n",
    "\n",
    "    X = X.reset_index(drop=True)\n",
    "\n",
    "    for i, feats in enumerate(bundles.values()):\n",
    "        bin_ranges = {}\n",
    "        total_bin = 0\n",
    "\n",
    "        # offsetを計算\n",
    "        for feat in feats:\n",
    "            # 各特徴量のbin数を加算していくことで、offsetを計算する\n",
    "            total_bin += _get_bins(X[feat], max_bin)\n",
    "            bin_ranges[feat] = total_bin\n",
    "\n",
    "        bin = pd.Series(np.zeros(len(X), dtype=int))\n",
    "        for feat in feats:\n",
    "            bin_df = pd.cut(X[feat], bins=_get_bins(X[feat], max_bin), labels=False)\n",
    "            zero_mask = bin_df == 0\n",
    "\n",
    "            # bin値が0の場合は、offsetを加算しない\n",
    "            # そもそもここで加算している特徴量同士は、同時にnonzero値を取らないことが前提であるため、\n",
    "            # offsetの加算により、どの特徴量のbin値かが一意に特定できる。0にoffsetを加算すると、この一意性が失われる。\n",
    "            bin_df += bin_ranges[feat]\n",
    "            bin_df[zero_mask] = 0\n",
    "\n",
    "            bin += bin_df\n",
    "\n",
    "        df[i] = bin\n",
    "\n",
    "    return df\n"
   ]
  },
  {
   "cell_type": "code",
   "execution_count": null,
   "metadata": {},
   "outputs": [],
   "source": [
    "G = _create_weighted_feature_graph(X_train)\n",
    "bundles = _greedy_bundling(G, X_train.shape[0])\n",
    "X = _merge_exclusive_feature(X_train, bundles)"
   ]
  },
  {
   "cell_type": "code",
   "execution_count": 10,
   "metadata": {},
   "outputs": [],
   "source": [
    "from sklearn.model_selection import ParameterGrid\n",
    "\n",
    "def simple_hyperparameter_search(X_train, y_train, X_test, y_test):\n",
    "    param = {\n",
    "        \"n_trees\": [10, 100, 1000],\n",
    "        \"learning_rate\": [0.1, 0.01, 0.001],\n",
    "        \"max_depth\": range(3, 100, 5),\n",
    "    }\n",
    "    param_grid = ParameterGrid(param)\n",
    "\n",
    "    best_score = 1000\n",
    "    best_param = None\n",
    "    total = len(param_grid)\n",
    "    for i, p in enumerate(param_grid):\n",
    "        if i % 30 == 0:\n",
    "            print(f\"{i}/{total}\")\n",
    "        efb = SimpleEFB(**p)\n",
    "        efb.fit(X_train, y_train)\n",
    "        y_pred = efb.predict(X_test)\n",
    "        score = mean_squared_error(y_test, y_pred)\n",
    "\n",
    "        if score < best_score:\n",
    "            best_score = score\n",
    "            best_param = p\n",
    "    \n",
    "    return best_param, best_score"
   ]
  },
  {
   "cell_type": "code",
   "execution_count": 11,
   "metadata": {},
   "outputs": [
    {
     "name": "stdout",
     "output_type": "stream",
     "text": [
      "0/180\n",
      "30/180\n",
      "60/180\n",
      "90/180\n",
      "120/180\n",
      "150/180\n"
     ]
    },
    {
     "data": {
      "text/plain": [
       "({'learning_rate': 0.001, 'max_depth': 8, 'n_trees': 10}, 75.08955622266137)"
      ]
     },
     "execution_count": 11,
     "metadata": {},
     "output_type": "execute_result"
    }
   ],
   "source": [
    "simple_hyperparameter_search(X_train, y_train, X_test, y_test)"
   ]
  },
  {
   "cell_type": "code",
   "execution_count": 62,
   "metadata": {},
   "outputs": [
    {
     "name": "stdout",
     "output_type": "stream",
     "text": [
      "Train MSE: 10.4592\n",
      "Test MSE: 22.6830\n"
     ]
    }
   ],
   "source": [
    "efb = SimpleEFB(n_trees=700, learning_rate=0.002, max_depth=9, random_state=42, max_bin=4)\n",
    "efb.fit(X_train, y_train)\n",
    "y_pred_train = efb.predict(X_train)\n",
    "y_pred_test = efb.predict(X_test)\n",
    "\n",
    "print(f\"Train MSE: {mean_squared_error(y_train, y_pred_train):.4f}\")\n",
    "print(f\"Test MSE: {mean_squared_error(y_test, y_pred_test):.4f}\")\n"
   ]
  }
 ],
 "metadata": {
  "kernelspec": {
   "display_name": "venv",
   "language": "python",
   "name": "python3"
  },
  "language_info": {
   "codemirror_mode": {
    "name": "ipython",
    "version": 3
   },
   "file_extension": ".py",
   "mimetype": "text/x-python",
   "name": "python",
   "nbconvert_exporter": "python",
   "pygments_lexer": "ipython3",
   "version": "3.11.2"
  },
  "orig_nbformat": 4
 },
 "nbformat": 4,
 "nbformat_minor": 2
}
