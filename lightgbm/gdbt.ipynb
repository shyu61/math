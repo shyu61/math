{
 "cells": [
  {
   "cell_type": "code",
   "execution_count": 257,
   "metadata": {},
   "outputs": [],
   "source": [
    "import numpy as np\n",
    "import pandas as pd\n",
    "from sklearn.datasets import load_breast_cancer\n",
    "from sklearn.model_selection import train_test_split\n",
    "from sklearn.tree import DecisionTreeRegressor, plot_tree\n",
    "from sklearn.metrics import accuracy_score\n",
    "from sklearn.ensemble import GradientBoostingClassifier\n",
    "import matplotlib.pyplot as plt"
   ]
  },
  {
   "cell_type": "code",
   "execution_count": 181,
   "metadata": {},
   "outputs": [],
   "source": [
    "# 勾配法と言いつつ、勾配は計算していない。残差による再学習を繰り返す。\n",
    "class GBDT:\n",
    "    def __init__(self, n_estimators=100, learning_rate=0.1, max_depth=3):\n",
    "        self.n_estimators = n_estimators\n",
    "        self.learning_rate = learning_rate\n",
    "        self.max_depth = max_depth\n",
    "        self.trees = []\n",
    "\n",
    "    def fit(self, X, y):\n",
    "        self.F0 = y.mean()\n",
    "        # 初期予測値は、目的変数の平均値\n",
    "        Fm = np.repeat(self.F0, y.shape[0])\n",
    "\n",
    "        # 残差を0に近づけるように学習を繰り返す\n",
    "        # ポイントは、yを予測するモデルを作っているのではなく、残差を予測するモデルを作っているということ。\n",
    "        # つまり、残差を予測するモデルを作って、それを予測値に足していくことで、残差を0に近づけている。\n",
    "        for _ in range(self.n_estimators):\n",
    "            # 残差を計算\n",
    "            residual = y - Fm\n",
    "\n",
    "            # 残差に対する決定木の学習\n",
    "            tree = DecisionTreeRegressor(max_depth=self.max_depth)\n",
    "            tree.fit(X, residual)\n",
    "            self.trees.append(tree)\n",
    "\n",
    "            # 予測値を更新\n",
    "            # predictは残差の予測値を返す。つまりFが残差分更新されると、次の残差は0に近づく。\n",
    "            Fm += self.learning_rate * tree.predict(X)\n",
    "\n",
    "    def predict(self, X):\n",
    "        Fm = np.repeat(self.F0, X.shape[0])\n",
    "        # 予測値は、初期予測値 + 残差の予測値の総和\n",
    "        # 前のモデルの残差の残差を予測するモデルを作ったので、それらを足し合わせることで、より正確な残差を予測できる。\n",
    "        # それを最初の予測値に足せば、予測値 + 正確な残差 = 正確な予測値が得られる。\n",
    "        pred = Fm + self.learning_rate * np.sum([tree.predict(X) for tree in self.trees], axis=0)\n",
    "        return np.where(pred > 0, 1, 0)"
   ]
  },
  {
   "cell_type": "code",
   "execution_count": 182,
   "metadata": {},
   "outputs": [],
   "source": [
    "data = load_breast_cancer()\n",
    "X, y = data.data, data.target\n",
    "X_train, X_test, y_train, y_test = train_test_split(X, y, test_size=0.3, random_state=42)"
   ]
  },
  {
   "cell_type": "code",
   "execution_count": 183,
   "metadata": {},
   "outputs": [
    {
     "name": "stdout",
     "output_type": "stream",
     "text": [
      "scratch: 0.8362573099415205, sklearn: 0.9590643274853801\n",
      "diff: -0.12280701754385959\n"
     ]
    }
   ],
   "source": [
    "gbdt = GBDT()\n",
    "gbdt.fit(X_train, y_train)\n",
    "y_pred = gbdt.predict(X_test)\n",
    "scratch_score = accuracy_score(y_test, y_pred)\n",
    "\n",
    "gbdt = GradientBoostingClassifier()\n",
    "gbdt.fit(X_train, y_train)\n",
    "y_pred = gbdt.predict(X_test)\n",
    "sklearn_score = accuracy_score(y_test, y_pred)\n",
    "\n",
    "print(f\"scratch: {scratch_score}, sklearn: {sklearn_score}\")\n",
    "print(f\"diff: {scratch_score - sklearn_score}\")"
   ]
  },
  {
   "cell_type": "code",
   "execution_count": 263,
   "metadata": {},
   "outputs": [],
   "source": [
    "class Lad_GBDT(object):\n",
    "    def __init__(self, n_estimators: int = 100, max_depth: int = 3) -> None:\n",
    "        self.max_depth = max_depth\n",
    "        self.n_estimators = n_estimators\n",
    "        self.trees = []\n",
    "        self.regions = []\n",
    "        self.gammas = []\n",
    "        self.f0 = 0\n",
    "\n",
    "    def __compute_gammas(self, y_pred: np.array, y: np.array, fm: np.array) -> tuple[np.array, dict]:\n",
    "        # gammaは、残差を元に予測した値を使って、fmを更新する変化量\n",
    "        gamma_jm = np.zeros(y.shape[0])\n",
    "        regions = np.unique(y_pred)\n",
    "        gamma = {}\n",
    "        for r in regions:\n",
    "            idx = y_pred == r\n",
    "            fm_r = fm[idx]\n",
    "            y_r = y[idx]\n",
    "            gamma_r = np.median(y_r - fm_r)\n",
    "            gamma_jm[idx] = gamma_r\n",
    "            gamma[r] = gamma_r\n",
    "\n",
    "        self.regions.append(regions)\n",
    "        return (gamma_jm, gamma)\n",
    "\n",
    "    def fit(self, X: np.array, y :np.array) -> None:\n",
    "        self.trees = []\n",
    "        self.regions = []\n",
    "        self.tree_weights = []\n",
    "\n",
    "        self.f0 = np.median(y)\n",
    "        fm = np.repeat(self.f0, y.shape[0])\n",
    "\n",
    "        for _ in range(self.n_estimators):\n",
    "            residual = y - fm\n",
    "            y_tilda = np.sign(residual)\n",
    "\n",
    "            tree = DecisionTreeRegressor(max_depth=self.max_depth)\n",
    "            tree.fit(X, y_tilda)\n",
    "\n",
    "            y_pred = tree.predict(X)\n",
    "            gamma_jm, gamma = self.__compute_gammas(y_pred, y, fm)\n",
    "            fm += gamma_jm\n",
    "            self.trees.append(tree)\n",
    "            self.gammas.append(gamma)\n",
    "        \n",
    "    def predict(self, X: np.array) -> np.array:\n",
    "        fm = np.repeat(self.f0, X.shape[0])\n",
    "        for tree, gamma, regions in zip(self.trees, self.gammas, self.regions):\n",
    "            y_pred = tree.predict(X)\n",
    "            for r in regions:\n",
    "                idx = y_pred == r\n",
    "                fm[idx] += gamma[r] \n",
    "        return(fm)"
   ]
  },
  {
   "cell_type": "code",
   "execution_count": 264,
   "metadata": {},
   "outputs": [
    {
     "data": {
      "text/plain": [
       "0.9590643274853801"
      ]
     },
     "execution_count": 264,
     "metadata": {},
     "output_type": "execute_result"
    }
   ],
   "source": [
    "lad = Lad_GBDT()\n",
    "lad.fit(X_train, y_train)\n",
    "y_pred = lad.predict(X_test)\n",
    "accuracy_score(y_test, y_pred)"
   ]
  }
 ],
 "metadata": {
  "kernelspec": {
   "display_name": "venv",
   "language": "python",
   "name": "python3"
  },
  "language_info": {
   "codemirror_mode": {
    "name": "ipython",
    "version": 3
   },
   "file_extension": ".py",
   "mimetype": "text/x-python",
   "name": "python",
   "nbconvert_exporter": "python",
   "pygments_lexer": "ipython3",
   "version": "3.11.2"
  },
  "orig_nbformat": 4
 },
 "nbformat": 4,
 "nbformat_minor": 2
}
