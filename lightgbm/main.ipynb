{
 "cells": [
  {
   "cell_type": "code",
   "execution_count": 4,
   "metadata": {},
   "outputs": [],
   "source": [
    "import matplotlib.pyplot as plt\n",
    "import networkx as nx"
   ]
  },
  {
   "cell_type": "code",
   "execution_count": 23,
   "metadata": {},
   "outputs": [
    {
     "name": "stdout",
     "output_type": "stream",
     "text": [
      "edges: 3\n",
      "nodes: 4\n",
      "{3: {'label': 'center', 'weight': 2}, 4: {}, 1: {}, 2: {}}\n"
     ]
    },
    {
     "data": {
      "image/png": "[encoded data removed]",
      "text/plain": [
       "<Figure size 640x480 with 1 Axes>"
      ]
     },
     "metadata": {},
     "output_type": "display_data"
    }
   ],
   "source": [
    "g = nx.DiGraph()\n",
    "g.add_node(3, label=\"center\", weight=2)\n",
    "g.add_node(4)\n",
    "g.add_edge(1, 2)\n",
    "g.add_edge(2, 3)\n",
    "g.add_edge(1, 1)\n",
    "nx.draw(g, with_labels=True)\n",
    "\n",
    "print(f\"edges: {g.number_of_edges()}\")\n",
    "print(f\"nodes: {g.number_of_nodes()}\")\n",
    "print(dict(g.nodes))"
   ]
  },
  {
   "cell_type": "code",
   "execution_count": 43,
   "metadata": {},
   "outputs": [
    {
     "name": "stdout",
     "output_type": "stream",
     "text": [
      "Edge weight between A and B: 0.6\n",
      "('A', 'B', {'weight': 0.6})\n",
      "('A', 'D', {'weight': 0.5})\n",
      "('B', 'C', {'weight': 0.2})\n",
      "('C', 'D', {'weight': 0.1})\n"
     ]
    }
   ],
   "source": [
    "# グラフの作成\n",
    "G = nx.Graph()\n",
    "\n",
    "# ノードの追加\n",
    "G.add_node('A')\n",
    "G.add_node('B')\n",
    "G.add_node('C')\n",
    "G.add_node('D')\n",
    "\n",
    "# 重み付きエッジの追加\n",
    "G.add_edge('A', 'B', weight=0.6)\n",
    "G.add_edge('B', 'C', weight=0.2)\n",
    "G.add_edge('C', 'D', weight=0.1)\n",
    "G.add_edge('D', 'A', weight=0.5)\n",
    "\n",
    "# 重み付きエッジの取得\n",
    "edge_weight = G['A']['B']['weight']\n",
    "print(f\"Edge weight between A and B: {edge_weight}\")\n",
    "\n",
    "# すべてのエッジと重みを表示\n",
    "for edge in G.edges(data=True):\n",
    "    print(edge)\n",
    "\n",
    "# nx.draw(G, with_labels=True)"
   ]
  }
 ],
 "metadata": {
  "kernelspec": {
   "display_name": "venv",
   "language": "python",
   "name": "python3"
  },
  "language_info": {
   "codemirror_mode": {
    "name": "ipython",
    "version": 3
   },
   "file_extension": ".py",
   "mimetype": "text/x-python",
   "name": "python",
   "nbconvert_exporter": "python",
   "pygments_lexer": "ipython3",
   "version": "3.11.2"
  },
  "orig_nbformat": 4
 },
 "nbformat": 4,
 "nbformat_minor": 2
}
