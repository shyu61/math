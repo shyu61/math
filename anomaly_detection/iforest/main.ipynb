{
 "cells": [
  {
   "cell_type": "code",
   "execution_count": 51,
   "metadata": {},
   "outputs": [],
   "source": [
    "from typing import List\n",
    "import numpy as np\n",
    "from sklearn.datasets import make_blobs"
   ]
  },
  {
   "cell_type": "code",
   "execution_count": 2,
   "metadata": {},
   "outputs": [],
   "source": [
    "X, Y = make_blobs(n_samples=200, centers=2, n_features=2, cluster_std=0.4, random_state=0)"
   ]
  },
  {
   "cell_type": "code",
   "execution_count": 53,
   "metadata": {},
   "outputs": [],
   "source": [
    "class ExNode():\n",
    "    def __init__(self, size):\n",
    "        self.size = size\n",
    "\n",
    "\n",
    "class InNode():\n",
    "    def __init__(self, left, right, split_attr, split_value):\n",
    "        self.left = left\n",
    "        self.right = right\n",
    "        self.split_attr = split_attr\n",
    "        self.split_value = split_value\n",
    "\n",
    "\n",
    "def itree(X_sample: np.ndarray, e: int, height: int) -> InNode or ExNode:\n",
    "    '''\n",
    "    X_sample: sample data\n",
    "    e: current tree height\n",
    "    height: height limit\n",
    "    '''\n",
    "    if e >= height or X_sample.shape[0] <= 1:\n",
    "        return ExNode(X_sample.shape[0])\n",
    "    \n",
    "    # Randomly select a feature\n",
    "    q = np.random.choice(X_sample.shape[1])\n",
    "    # Randomly select a split point\n",
    "    p = np.random.choice(X_sample[:, q])\n",
    "\n",
    "    X_left = X_sample[X_sample[:, q] < p]\n",
    "    X_right = X_sample[X_sample[:, q] >= p]\n",
    "\n",
    "    return InNode(left=itree(X_left, e+1, height), right=itree(X_right, e+1, height), split_attr=q, split_value=p)\n",
    "\n",
    "\n",
    "def iforest(n_trees: int = 100, phai: int = 128) -> List[InNode or ExNode]:\n",
    "    height = np.log2(phai)\n",
    "    forest = []\n",
    "\n",
    "    for i in range(n_trees):\n",
    "        X_sample = X[np.random.choice(X.shape[0], phai, replace=False)]\n",
    "        tree = itree(X_sample, 0, height)\n",
    "        forest.append(tree)\n",
    "    \n",
    "    return forest\n",
    "\n",
    "def path_length():\n",
    "    pass\n"
   ]
  },
  {
   "cell_type": "code",
   "execution_count": 31,
   "metadata": {},
   "outputs": [],
   "source": [
    "isolation_forest = iforest()"
   ]
  },
  {
   "cell_type": "code",
   "execution_count": 39,
   "metadata": {},
   "outputs": [],
   "source": [
    "tree = isolation_forest[0]"
   ]
  },
  {
   "cell_type": "code",
   "execution_count": 50,
   "metadata": {},
   "outputs": [
    {
     "name": "stdout",
     "output_type": "stream",
     "text": [
      "2.0943575085188204\n",
      "4.31651955075813\n",
      "0.9915986262341816\n",
      "0.678368149727119\n"
     ]
    }
   ],
   "source": [
    "print(tree.split_value)\n",
    "print(tree.left.split_value)\n",
    "print(tree.left.left.split_value)\n",
    "print(tree.left.left.left.split_value)"
   ]
  }
 ],
 "metadata": {
  "kernelspec": {
   "display_name": "ml-sandbox-br58J_x6-py3.11",
   "language": "python",
   "name": "python3"
  },
  "language_info": {
   "codemirror_mode": {
    "name": "ipython",
    "version": 3
   },
   "file_extension": ".py",
   "mimetype": "text/x-python",
   "name": "python",
   "nbconvert_exporter": "python",
   "pygments_lexer": "ipython3",
   "version": "3.11.2"
  },
  "orig_nbformat": 4
 },
 "nbformat": 4,
 "nbformat_minor": 2
}
