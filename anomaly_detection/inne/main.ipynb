{
 "cells": [
  {
   "cell_type": "code",
   "execution_count": 49,
   "metadata": {},
   "outputs": [],
   "source": [
    "from typing import Any\n",
    "import numpy as np\n",
    "import matplotlib.pyplot as plt\n",
    "from sklearn.datasets import make_blobs"
   ]
  },
  {
   "cell_type": "code",
   "execution_count": 50,
   "metadata": {},
   "outputs": [],
   "source": [
    "X, Y = make_blobs(n_samples=200, centers=2, n_features=2, cluster_std=0.4, random_state=0)"
   ]
  },
  {
   "cell_type": "code",
   "execution_count": 74,
   "metadata": {},
   "outputs": [],
   "source": [
    "class Hypersphere():\n",
    "    def __init__(self, center: np.ndarray, center_indice: int, eta_indice: int, eta: np.ndarray, radius: np.floating[Any]):\n",
    "        self.center = center\n",
    "        # 同じサブサンプル内の最近傍点\n",
    "        self.eta = eta\n",
    "        self.radius = radius\n",
    "        # INNEのfit時に与えられたデータセットの中でのインデックス\n",
    "        self.center_indice = center_indice\n",
    "        self.eta_indice = eta_indice\n",
    "\n",
    "class INNE():\n",
    "    def __init__(self, n_estimators: int, phai: int):\n",
    "        self.n_estimators = n_estimators\n",
    "        # 1 estimatorあたりのサンプル数\n",
    "        self.phai = phai\n",
    "        # phai個の超球を含む集合を、n_estimators個含む集合\n",
    "        self.estimators = []\n",
    "        # 学習に使ったデータセットを保持しておく. predictでも使うため\n",
    "        self.X = None\n",
    "    \n",
    "    def _calc_nn(self, c: np.ndarray, Si: np.ndarray, indices: np.ndarray) -> tuple[np.ndarray, int, np.floating[Any]]:\n",
    "        \"\"\"\n",
    "        c: 超球の中心\n",
    "        Si: i番目のサブサンプル\n",
    "        \"\"\"\n",
    "        nn, nn_indice, nn_norm = None, None, None\n",
    "        for x, indice in zip(Si, indices):\n",
    "            distance = np.linalg.norm(c - x)\n",
    "            # 自分自身を除く\n",
    "            if distance == 0:\n",
    "                continue\n",
    "\n",
    "            if nn is None or nn_norm is None:\n",
    "                nn = x\n",
    "                nn_indice = indice\n",
    "                nn_norm = np.linalg.norm(c - x)\n",
    "            else:\n",
    "                if distance < nn_norm:\n",
    "                    nn = x\n",
    "                    nn_indice = indice\n",
    "                    nn_norm = np.linalg.norm(c - x)\n",
    "\n",
    "        if nn is None or nn_indice is None or nn_norm is None:\n",
    "            raise Exception(\"nn is not found\")\n",
    "\n",
    "        return nn, nn_indice, nn_norm\n",
    "\n",
    "\n",
    "    def fit(self, X: np.ndarray):\n",
    "        self.X = X\n",
    "        # 1つのサブサンプル内ではデータの重複はないが、サブサンプル間ではデータの重複がある。\n",
    "        for i in range(self.n_estimators):\n",
    "            choiced_indices = np.random.choice(X.shape[0], self.phai, replace=False)\n",
    "            Si = X[choiced_indices]\n",
    "            # phai個の超球を含む集合\n",
    "            Bi = []\n",
    "            for centroid, indice in zip(Si, choiced_indices):\n",
    "                nn, nn_indice, nn_norm = self._calc_nn(centroid, Si, choiced_indices)\n",
    "                hypershere = Hypersphere(center=centroid, center_indice=indice, eta_indice=nn_indice, eta=nn, radius=nn_norm)\n",
    "                Bi.append(hypershere)\n",
    "            \n",
    "            self.estimators.append(Bi)\n",
    "        \n",
    "\n",
    "    def _get_hypersphere(self, indice: int, hyperspheres: list[Hypersphere]) -> Hypersphere | None:\n",
    "        \"\"\"\n",
    "        訓練データのindiceから、対応する超球を取得する\n",
    "        \"\"\"\n",
    "        for hypersphere in hyperspheres:\n",
    "            if hypersphere.center_indice == indice:\n",
    "                return hypersphere\n",
    "\n",
    "        return None\n",
    "\n",
    "\n",
    "    def _calc_anomaly_score(self, data: np.ndarray):\n",
    "        anomaly_scores = []\n",
    "        for estimator in self.estimators:\n",
    "            cnn = None\n",
    "            for hypershere in estimator:\n",
    "                distance = np.linalg.norm(data - hypershere.center)\n",
    "                # この超球の内側にあり、かつ、この超球の半径\n",
    "                if distance < hypershere.radius:\n",
    "                    # 条件に合致する超球のうち、最も半径が小さいものを選択する\n",
    "                    if cnn is None or cnn.radius < hypershere.radius:\n",
    "                        cnn = hypershere\n",
    "            # 異常スコアの計算\n",
    "            # dataがどの超球内にも含まれない場合、異常スコアは最大の1となる\n",
    "            anomaly_score = 1\n",
    "            if cnn is not None:\n",
    "                sub_hypersphere = self._get_hypersphere(cnn.eta_indice, estimator)\n",
    "                if sub_hypersphere is None:\n",
    "                    raise Exception(\"sub_hypersphere is not found\")\n",
    "                \n",
    "                anomaly_score = 1 - (sub_hypersphere.radius / cnn.radius)\n",
    "            anomaly_scores.append(anomaly_score)\n",
    "\n",
    "        # ensemble\n",
    "        return np.mean(anomaly_scores)\n",
    "\n",
    "\n",
    "    def predict(self, X_test: np.ndarray, contamination: float = 0.1) -> np.ndarray:\n",
    "        anomaly_scores = np.zeros(X_test.shape[0])\n",
    "        for i, data in enumerate(X_test):\n",
    "            anomaly_score = self._calc_anomaly_score(data)\n",
    "            anomaly_scores[i] = anomaly_score\n",
    "        \n",
    "        offset = np.percentile(anomaly_scores, 100 * (1 - contamination))\n",
    "\n",
    "        return np.where(anomaly_scores > offset, -1, 1)"
   ]
  },
  {
   "cell_type": "code",
   "execution_count": 75,
   "metadata": {},
   "outputs": [],
   "source": [
    "inne = INNE(n_estimators=10, phai=10)\n",
    "inne.fit(X)"
   ]
  },
  {
   "cell_type": "code",
   "execution_count": 77,
   "metadata": {},
   "outputs": [
    {
     "data": {
      "text/plain": [
       "array([ 1,  1, -1,  1,  1,  1,  1,  1,  1,  1,  1,  1,  1,  1,  1,  1, -1,\n",
       "       -1,  1,  1,  1,  1,  1,  1,  1,  1,  1,  1,  1, -1,  1, -1,  1, -1,\n",
       "        1,  1,  1,  1,  1,  1,  1,  1,  1,  1,  1,  1,  1, -1,  1, -1,  1,\n",
       "        1,  1,  1,  1,  1,  1,  1,  1,  1,  1, -1,  1,  1,  1,  1,  1,  1,\n",
       "        1,  1, -1,  1, -1,  1,  1,  1, -1, -1,  1,  1,  1,  1,  1,  1,  1,\n",
       "        1,  1,  1,  1,  1,  1,  1,  1,  1,  1,  1,  1,  1,  1,  1,  1,  1,\n",
       "        1,  1,  1,  1,  1,  1,  1,  1,  1,  1,  1,  1,  1,  1,  1,  1,  1,\n",
       "        1,  1,  1,  1,  1, -1,  1,  1,  1,  1,  1,  1,  1,  1,  1,  1,  1,\n",
       "        1,  1,  1, -1,  1, -1,  1,  1,  1,  1,  1,  1,  1,  1,  1,  1,  1,\n",
       "        1,  1,  1,  1,  1,  1,  1,  1,  1,  1,  1,  1,  1,  1,  1,  1,  1,\n",
       "        1,  1,  1,  1,  1,  1,  1,  1, -1, -1, -1,  1,  1,  1,  1,  1,  1,\n",
       "        1,  1,  1,  1,  1, -1,  1,  1,  1,  1,  1,  1,  1])"
      ]
     },
     "metadata": {},
     "output_type": "display_data"
    },
    {
     "name": "stdout",
     "output_type": "stream",
     "text": [
      "(200,)\n",
      "(200, 2)\n"
     ]
    }
   ],
   "source": [
    "predict = inne.predict(X)\n",
    "display(predict)\n",
    "print(predict.shape)\n",
    "print(X.shape)"
   ]
  },
  {
   "cell_type": "code",
   "execution_count": 83,
   "metadata": {},
   "outputs": [
    {
     "data": {
      "text/plain": [
       "<matplotlib.legend.Legend at 0x17bf75150>"
      ]
     },
     "execution_count": 83,
     "metadata": {},
     "output_type": "execute_result"
    },
    {
     "data": {
      "image/png": "[encoded data removed]",
      "text/plain": [
       "<Figure size 640x480 with 1 Axes>"
      ]
     },
     "metadata": {},
     "output_type": "display_data"
    }
   ],
   "source": [
    "inne = INNE(n_estimators=10, phai=10)\n",
    "inne.fit(X)\n",
    "labels = inne.predict(X, contamination=0.1)\n",
    "unique_labels = np.unique(labels)\n",
    "for label in unique_labels:\n",
    "    plt.scatter(X[labels == label, 0], X[labels == label, 1], label=label)\n",
    "plt.legend()"
   ]
  },
  {
   "cell_type": "code",
   "execution_count": null,
   "metadata": {},
   "outputs": [],
   "source": []
  }
 ],
 "metadata": {
  "kernelspec": {
   "display_name": "ml-sandbox-br58J_x6-py3.11",
   "language": "python",
   "name": "python3"
  },
  "language_info": {
   "codemirror_mode": {
    "name": "ipython",
    "version": 3
   },
   "file_extension": ".py",
   "mimetype": "text/x-python",
   "name": "python",
   "nbconvert_exporter": "python",
   "pygments_lexer": "ipython3",
   "version": "3.11.2"
  },
  "orig_nbformat": 4
 },
 "nbformat": 4,
 "nbformat_minor": 2
}
