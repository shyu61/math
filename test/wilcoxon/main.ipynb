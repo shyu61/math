{
 "cells": [
  {
   "cell_type": "code",
   "execution_count": 22,
   "metadata": {},
   "outputs": [],
   "source": [
    "import numpy as np\n",
    "import scipy"
   ]
  },
  {
   "cell_type": "code",
   "execution_count": 23,
   "metadata": {},
   "outputs": [],
   "source": [
    "dataset1 = np.random.randint(1, 100, size=100)\n",
    "dataset2 = np.random.randint(1, 100, size=100)"
   ]
  },
  {
   "cell_type": "code",
   "execution_count": 46,
   "metadata": {},
   "outputs": [],
   "source": [
    "def get_score(data1: np.ndarray, data2: np.ndarray) -> tuple[int, int]:\n",
    "    diff = data1 - data2\n",
    "    diff = diff[diff != 0]\n",
    "\n",
    "    ranks = np.abs(diff).argsort()\n",
    "\n",
    "    # 各符号ごとに順位の和を計算\n",
    "    positive_rank_sum = ranks[diff > 0].sum()\n",
    "    negative_rank_sum = ranks[diff < 0].sum()\n",
    "\n",
    "    return np.min([positive_rank_sum, negative_rank_sum]), len(diff)\n",
    "\n",
    "def get_p_value(score: int, N: int) -> float:\n",
    "    # wilcoxon分布はサンプル量が多いとき、中心極限定理により正規分布に近似できる\n",
    "    # wilcoxonの期待値と分散を計算した上で、正規分布の累積分布関数を使うことで、p値を計算する\n",
    "\n",
    "    # 期待値: E[T] = n(n+1)/4\n",
    "    # 分散: Var[T] = n(n+1)(2n+1)/24\n",
    "    E = N * (N + 1) / 4\n",
    "    V = N * (N + 1) * (2 * N + 1) / 24\n",
    "\n",
    "    low = False\n",
    "    if E > score:\n",
    "        low = True\n",
    "    \n",
    "    # cdfは、与えられた引数xをx軸にとった時の、x以下の面積を返す\n",
    "    # xがEより大きい場合は、上裾の面積になる\n",
    "    cdf = scipy.stats.norm.cdf(score, loc=E, scale=np.sqrt(V))\n",
    "\n",
    "    # 両側検定なので*2する\n",
    "    if low:\n",
    "        return cdf * 2\n",
    "    else:\n",
    "        return (1 - cdf) * 2"
   ]
  },
  {
   "cell_type": "code",
   "execution_count": 44,
   "metadata": {},
   "outputs": [
    {
     "name": "stdout",
     "output_type": "stream",
     "text": [
      "p_value: 0.4764529395105843\n"
     ]
    }
   ],
   "source": [
    "score, N = get_score(dataset1, dataset2)\n",
    "p_value = get_p_value(score, N)\n",
    "\n",
    "print(f\"p_value: {p_value}\")"
   ]
  },
  {
   "cell_type": "code",
   "execution_count": 45,
   "metadata": {},
   "outputs": [
    {
     "name": "stdout",
     "output_type": "stream",
     "text": [
      "dataset1 と dataset2 の間に有意差はありません\n"
     ]
    }
   ],
   "source": [
    "if p_value > 0.05:\n",
    "    print('dataset1 と dataset2 の間に有意差はありません')\n",
    "else:\n",
    "    print('dataset1 と dataset2 の間に有意差があります')"
   ]
  }
 ],
 "metadata": {
  "kernelspec": {
   "display_name": "ml-sandbox-pcjPIEgg-py3.11",
   "language": "python",
   "name": "python3"
  },
  "language_info": {
   "codemirror_mode": {
    "name": "ipython",
    "version": 3
   },
   "file_extension": ".py",
   "mimetype": "text/x-python",
   "name": "python",
   "nbconvert_exporter": "python",
   "pygments_lexer": "ipython3",
   "version": "3.11.2"
  },
  "orig_nbformat": 4
 },
 "nbformat": 4,
 "nbformat_minor": 2
}
